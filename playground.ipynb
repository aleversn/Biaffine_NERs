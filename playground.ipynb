{
 "cells": [
  {
   "cell_type": "code",
   "execution_count": null,
   "metadata": {},
   "outputs": [],
   "source": [
    "! conda create -n cnnner python=3.8\n",
    "! pip install torch==1.8.0+cu111 torchvision==0.9.0+cu111 torchaudio==0.8.0 -f https://download.pytorch.org/whl/torch_stable.html\n",
    "! pip install transformers==4.18.0 fastNLP==1.0.1 PrettyTable\n",
    "! pip install torch-scatter==2.0.8 -f https://data.pyg.org/whl/torch-1.8.0+cu111.html"
   ]
  },
  {
   "cell_type": "code",
   "execution_count": null,
   "metadata": {},
   "outputs": [],
   "source": [
    "from main.trainers.cnnner_trainer import Trainer\n",
    "from transformers import BertTokenizer, BertConfig\n",
    "\n",
    "tokenizer = BertTokenizer.from_pretrained(\n",
    "    \"/home/lpc/models/chinese-bert-wwm-ext/\")\n",
    "config = BertConfig.from_pretrained(\n",
    "    \"/home/lpc/models/chinese-bert-wwm-ext/\")\n",
    "trainer = Trainer(tokenizer=tokenizer, config=config, from_pretrained='/home/lpc/models/chinese-bert-wwm-ext/',\n",
    "                  data_name='weibo', batch_size=4, task_name='CNNNER-weibo')\n",
    "\n",
    "for i in trainer(num_epochs=60, eval_call_step=lambda x: x % 250 == 0):\n",
    "    a = i"
   ]
  }
 ],
 "metadata": {
  "kernelspec": {
   "display_name": "cnnner",
   "language": "python",
   "name": "python3"
  },
  "language_info": {
   "name": "python",
   "version": "3.8.20"
  }
 },
 "nbformat": 4,
 "nbformat_minor": 2
}
